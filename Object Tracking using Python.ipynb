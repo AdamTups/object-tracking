{
 "cells": [
  {
   "cell_type": "markdown",
   "metadata": {},
   "source": [
    "# Object Tracking using Python\n",
    "\n",
    "This notebook contains an implementation of an object tracking algorithm using Python 3 and OpenCV 3.4.3."
   ]
  },
  {
   "cell_type": "markdown",
   "metadata": {},
   "source": [
    "#### Load Libraries\n",
    "\n",
    "In our implementation we use the following libraries and versions listed below."
   ]
  },
  {
   "cell_type": "code",
   "execution_count": 5,
   "metadata": {
    "scrolled": true
   },
   "outputs": [
    {
     "name": "stdout",
     "output_type": "stream",
     "text": [
      "Python Version: 3.6.5 \n",
      "OpenCV Version: 3.4.3\n"
     ]
    }
   ],
   "source": [
    "import sys\n",
    "import cv2\n",
    "\n",
    "print(\"Python Version: {}\".format(sys.version.split('|')[0]))\n",
    "print(\"OpenCV Version: {}\".format(cv2.__version__))"
   ]
  },
  {
   "cell_type": "markdown",
   "metadata": {},
   "source": [
    "## Read our Video\n",
    "\n",
    "The video we use in this exercise is sourced from the MOT16 database and can be found here: https://motchallenge.net/vis/MOT16-09/gt/"
   ]
  },
  {
   "cell_type": "markdown",
   "metadata": {},
   "source": [
    "<video controls width=540 src=\"videos/MOT16-09-Trimmed.mp4\" />"
   ]
  },
  {
   "cell_type": "markdown",
   "metadata": {},
   "source": [
    "Our task is to track the man initially starting on the left of the frame as he moves through the scene.\n",
    "\n",
    "There are many object tracking algorithms which have been developed, each with their own strengths and weaknesses. Therefore, it is important that we understand the characteristics of the video we are using and the object(s) within the video we want to track.\n",
    "\n",
    "In our video, the subject moves relatively slowly and predictably which makes our task easier. However there are two notable challenges which are raised in tracking our chosen subject. At around the 7 sec and 16 sec marks, the subject becomes occluded by other pedestrians in the scene and as the subject walks down the pavement he becomes smaller as he moves away from the camera. \n",
    "\n",
    "We must choose an appropriate object tracking algorithm which deals well with these issues."
   ]
  },
  {
   "cell_type": "code",
   "execution_count": 8,
   "metadata": {},
   "outputs": [],
   "source": [
    "VIDEO_PATH = \"videos/MOT16-09-Trimmed.mp4\"\n",
    "video = cv2.VideoCapture(VIDEO_PATH)"
   ]
  },
  {
   "cell_type": "code",
   "execution_count": null,
   "metadata": {},
   "outputs": [],
   "source": []
  }
 ],
 "metadata": {
  "kernelspec": {
   "display_name": "OpenCV_3.4.3",
   "language": "python",
   "name": "opencv_3.4.3"
  },
  "language_info": {
   "codemirror_mode": {
    "name": "ipython",
    "version": 3
   },
   "file_extension": ".py",
   "mimetype": "text/x-python",
   "name": "python",
   "nbconvert_exporter": "python",
   "pygments_lexer": "ipython3",
   "version": "3.6.5"
  }
 },
 "nbformat": 4,
 "nbformat_minor": 2
}
